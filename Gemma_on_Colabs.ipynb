{
  "nbformat": 4,
  "nbformat_minor": 0,
  "metadata": {
    "colab": {
      "private_outputs": true,
      "provenance": [],
      "gpuType": "T4",
      "authorship_tag": "ABX9TyPmVYiX8NlH1dIiWn+q0qmH",
      "include_colab_link": true
    },
    "kernelspec": {
      "name": "python3",
      "display_name": "Python 3"
    },
    "language_info": {
      "name": "python"
    },
    "accelerator": "GPU"
  },
  "cells": [
    {
      "cell_type": "markdown",
      "metadata": {
        "id": "view-in-github",
        "colab_type": "text"
      },
      "source": [
        "<a href=\"https://colab.research.google.com/github/CllsPy/Gen-AI/blob/main/Gemma_on_Colabs.ipynb\" target=\"_parent\"><img src=\"https://colab.research.google.com/assets/colab-badge.svg\" alt=\"Open In Colab\"/></a>"
      ]
    },
    {
      "cell_type": "markdown",
      "source": [
        "### Question answering\n",
        "\n",
        "1. [Model Card for C4AI Command R+]( https://huggingface.co/CohereForAI/c4ai-command-r-plus)\n",
        "2. [Authentication](https://huggingface.co/docs/hub/security-tokens)\n",
        "3. [What is good model for production - quantized vs non-quantized](https://www.reddit.com/r/LocalLLaMA/comments/15g6ds4/what_is_good_model_for_production_quantized_vs/?rdt=51663&onetap_auto=true&one_tap=true)\n",
        "4. [Gemma on Colabs](https://colab.research.google.com/github/google/generative-ai-docs/blob/main/site/en/gemma/docs/pytorch_gemma.ipynb#scrollTo=0qu4_r3PycgW)\n",
        "5. [Gemma Medium](https://medium.com/@coldstart_coder/getting-started-with-googles-gemma-llm-using-huggingface-libraries-a0d826c552ae)"
      ],
      "metadata": {
        "id": "8gt2aK-F1rv8"
      }
    },
    {
      "cell_type": "markdown",
      "source": [
        "## Kaggle Acess"
      ],
      "metadata": {
        "id": "D5iK-Y0A9oHf"
      }
    },
    {
      "cell_type": "code",
      "source": [
        "import kagglehub\n",
        "\n",
        "kagglehub.login()"
      ],
      "metadata": {
        "id": "Fj7s45-O8jHt"
      },
      "execution_count": null,
      "outputs": []
    },
    {
      "cell_type": "markdown",
      "source": [
        "## Install dependencies"
      ],
      "metadata": {
        "id": "x6Jv9o7H9pyz"
      }
    },
    {
      "cell_type": "code",
      "source": [
        "!pip install -q -U torch immutabledict sentencepiece"
      ],
      "metadata": {
        "id": "hGsX3aIh8jZa"
      },
      "execution_count": null,
      "outputs": []
    },
    {
      "cell_type": "markdown",
      "source": [
        "## Download Model"
      ],
      "metadata": {
        "id": "TC0q4twz9udq"
      }
    },
    {
      "cell_type": "code",
      "source": [
        "# Choose variant and machine type\n",
        "VARIANT = '2b-it' #@param ['2b', '2b-it', '7b', '7b-it', '7b-quant', '7b-it-quant']\n",
        "MACHINE_TYPE = 'cpu' #@param ['cuda', 'cpu']"
      ],
      "metadata": {
        "id": "Q0d2nxcC9r1x"
      },
      "execution_count": null,
      "outputs": []
    },
    {
      "cell_type": "code",
      "source": [
        "import os\n",
        "\n",
        "# Load model weights\n",
        "weights_dir = kagglehub.model_download(f'google/gemma/pyTorch/{VARIANT}')\n",
        "\n",
        "# Ensure that the tokenizer is present\n",
        "tokenizer_path = os.path.join(weights_dir, 'tokenizer.model')\n",
        "assert os.path.isfile(tokenizer_path), 'Tokenizer not found!'\n",
        "\n",
        "# Ensure that the checkpoint is present\n",
        "ckpt_path = os.path.join(weights_dir, f'gemma-{VARIANT}.ckpt')\n",
        "assert os.path.isfile(ckpt_path), 'PyTorch checkpoint not found!'"
      ],
      "metadata": {
        "id": "tRWFBQJd9z7Z"
      },
      "execution_count": null,
      "outputs": []
    },
    {
      "cell_type": "code",
      "source": [
        "# NOTE: The \"installation\" is just cloning the repo.\n",
        "!git clone https://github.com/google/gemma_pytorch.git"
      ],
      "metadata": {
        "id": "ozxgCHpG92eK"
      },
      "execution_count": null,
      "outputs": []
    },
    {
      "cell_type": "code",
      "source": [
        "import sys\n",
        "\n",
        "sys.path.append('gemma_pytorch')"
      ],
      "metadata": {
        "id": "e94Q_O6_932y"
      },
      "execution_count": null,
      "outputs": []
    },
    {
      "cell_type": "code",
      "source": [
        "from gemma_pytorch.gemma.config import get_config_for_7b, get_config_for_2b\n",
        "from gemma_pytorch.gemma.model import GemmaForCausalLM"
      ],
      "metadata": {
        "id": "IDfVothu95Ky"
      },
      "execution_count": null,
      "outputs": []
    },
    {
      "cell_type": "code",
      "source": [
        "import torch\n",
        "\n",
        "# Set up model config.\n",
        "model_config = get_config_for_2b() if \"2b\" in VARIANT else get_config_for_7b()\n",
        "model_config.tokenizer = tokenizer_path\n",
        "model_config.quant = 'quant' in VARIANT\n",
        "\n",
        "# Instantiate the model and load the weights.\n",
        "torch.set_default_dtype(model_config.get_dtype())\n",
        "device = torch.device(MACHINE_TYPE)\n",
        "model = GemmaForCausalLM(model_config)\n",
        "model.load_weights(ckpt_path)\n",
        "model = model.to(device).eval()"
      ],
      "metadata": {
        "id": "M5SBtyI5969z"
      },
      "execution_count": null,
      "outputs": []
    },
    {
      "cell_type": "code",
      "source": [
        "# Generate with one request in chat mode\n",
        "\n",
        "# Chat templates\n",
        "USER_CHAT_TEMPLATE = '<start_of_turn>user\\n{prompt}<end_of_turn>\\n'\n",
        "MODEL_CHAT_TEMPLATE = '<start_of_turn>model\\n{prompt}<end_of_turn>\\n'\n",
        "\n",
        "# Sample formatted prompt\n",
        "prompt = (\n",
        "    USER_CHAT_TEMPLATE.format(\n",
        "        prompt='Onde viajar se eu estiver no Brasil?' # <- Pergunta\n",
        "    )\n",
        "    #+ MODEL_CHAT_TEMPLATE.format(prompt='California.')\n",
        "    #+ USER_CHAT_TEMPLATE.format(prompt='What can I do in California?')\n",
        "    #+ '<start_of_turn>model\\n'\n",
        ")\n",
        "print('Chat prompt:\\n', prompt)\n",
        "\n",
        "model.generate(\n",
        "    USER_CHAT_TEMPLATE.format(prompt=prompt),\n",
        "    device=device,\n",
        "    output_len=100,\n",
        ")"
      ],
      "metadata": {
        "id": "44iNanIg9-QJ"
      },
      "execution_count": null,
      "outputs": []
    },
    {
      "cell_type": "markdown",
      "source": [
        "## Resposta"
      ],
      "metadata": {
        "id": "77SSTf__LXCi"
      }
    },
    {
      "cell_type": "markdown",
      "source": [
        "Aonde viajar na Brasil depende do seu destino.\n",
        "\n",
        "* **No interior do Brasil:**\n",
        "    * Aviação é a forma mais rápida e eficiente de chegar ao interior.\n",
        "    * Existem várias empresas de ônibus de passageiro, como ViaLiner e Gaivão, que oferecem viagensBegriffskläros entre cidades e cidades dentro do país.\n",
        "    * A estrada é uma opção, mas é importante levar em conta as condições meteorológicas e a segurança na estrada.\n",
        "\n",
        "*"
      ],
      "metadata": {
        "id": "Q6K00YQQKvTX"
      }
    },
    {
      "cell_type": "code",
      "source": [],
      "metadata": {
        "id": "PVRxXALmMwQM"
      },
      "execution_count": null,
      "outputs": []
    }
  ]
}