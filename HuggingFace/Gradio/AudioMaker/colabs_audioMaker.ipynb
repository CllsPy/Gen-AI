{
  "nbformat": 4,
  "nbformat_minor": 0,
  "metadata": {
    "colab": {
      "provenance": [],
      "gpuType": "T4"
    },
    "kernelspec": {
      "name": "python3",
      "display_name": "Python 3"
    },
    "language_info": {
      "name": "python"
    },
    "accelerator": "GPU"
  },
  "cells": [
    {
      "cell_type": "markdown",
      "source": [
        "## requirements"
      ],
      "metadata": {
        "id": "_VIs1DJyEQVl"
      }
    },
    {
      "cell_type": "code",
      "source": [
        "%%capture\n",
        "\n",
        "!pip install diffusers[\"torch\"] transformers\n",
        "!pip install gradio"
      ],
      "metadata": {
        "id": "v1SlWHt4ESt9"
      },
      "execution_count": 1,
      "outputs": []
    },
    {
      "cell_type": "markdown",
      "source": [
        "## processing.py"
      ],
      "metadata": {
        "id": "Zj6GU1ubDwok"
      }
    },
    {
      "cell_type": "code",
      "source": [
        "%%capture\n",
        "\n",
        "import scipy\n",
        "import torch\n",
        "from diffusers import AudioLDMPipeline"
      ],
      "metadata": {
        "id": "xNh9_HaXD3al"
      },
      "execution_count": 2,
      "outputs": []
    },
    {
      "cell_type": "code",
      "source": [
        "%%capture\n",
        "\n",
        "# initiate model\n",
        "repo_id = \"cvssp/audioldm-s-full-v2\"\n",
        "pipe = AudioLDMPipeline.from_pretrained(repo_id, torch_dtype=torch.float16)\n",
        "pipe = pipe.to(\"cuda\")\n",
        "\n",
        "# processing\n",
        "def processing(prompt:str, name_file: str):\n",
        "  prompt = prompt\n",
        "  audio = pipe(prompt, num_inference_steps=10, audio_length_in_s=180).audios[0]\n",
        "\n",
        "  scipy.io.wavfile.write(f'{name_file}.mp3', rate=16000, data=audio)\n",
        "\n",
        "  audio_file = f'{name_file}.mp3'\n",
        "\n",
        "  return audio_file"
      ],
      "metadata": {
        "id": "oje5JYQmDzcG"
      },
      "execution_count": 8,
      "outputs": []
    },
    {
      "cell_type": "markdown",
      "source": [
        "## app.py"
      ],
      "metadata": {
        "id": "zYRgje2TDuSe"
      }
    },
    {
      "cell_type": "code",
      "source": [
        "import gradio as gr\n",
        "\n",
        "gui = gr.Interface(\n",
        "    fn=processing,\n",
        "    inputs=[\"textbox\", \"textbox\"],\n",
        "    outputs=\"audio\"\n",
        "    )\n",
        "\n",
        "gui.launch(debug=True)"
      ],
      "metadata": {
        "id": "NnfGql0MDv0q"
      },
      "execution_count": null,
      "outputs": []
    }
  ]
}