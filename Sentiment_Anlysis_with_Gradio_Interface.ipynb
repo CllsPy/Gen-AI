{
  "nbformat": 4,
  "nbformat_minor": 0,
  "metadata": {
    "colab": {
      "private_outputs": true,
      "provenance": [],
      "gpuType": "T4",
      "authorship_tag": "ABX9TyPOb4kGTS9qkCr8LhPbyote",
      "include_colab_link": true
    },
    "kernelspec": {
      "name": "python3",
      "display_name": "Python 3"
    },
    "language_info": {
      "name": "python"
    },
    "accelerator": "GPU"
  },
  "cells": [
    {
      "cell_type": "markdown",
      "metadata": {
        "id": "view-in-github",
        "colab_type": "text"
      },
      "source": [
        "<a href=\"https://colab.research.google.com/github/CllsPy/Gen-AI/blob/main/Sentiment_Anlysis_with_Gradio_Interface.ipynb\" target=\"_parent\"><img src=\"https://colab.research.google.com/assets/colab-badge.svg\" alt=\"Open In Colab\"/></a>"
      ]
    },
    {
      "cell_type": "markdown",
      "source": [
        "# Requisito\n",
        "Os requisitos necessários para o código funcionar são:\n",
        "- Tensorflow\n",
        "- Keras\n",
        "- Transformers pipeline\n",
        "\n",
        "Todes esses estão disponíveis no Google Colabs, bastante apenas importar o que for necessário.*texte en italique*"
      ],
      "metadata": {
        "id": "23xODWM5cwqQ"
      }
    },
    {
      "cell_type": "markdown",
      "source": [
        "# Chamar pipeline e especificar modelo\n",
        "Nessa etapa usamos o pipeline para simplificar o uso dos modelos pré-treinados do **huggingface**.\n",
        "\n",
        "\n",
        "Informações adicionais sobre huggingface pipeline: https://huggingface.co/docs/transformers/main_classes/pipelines"
      ],
      "metadata": {
        "id": "8dDv785nec72"
      }
    },
    {
      "cell_type": "code",
      "source": [
        "# Usar pipeline\n",
        "from transformers import pipeline # <- Simplifica o uso de modelos pre-treinados\n",
        "\n",
        "# Definir tarefa de classificação\n",
        "pipe = pipeline(\"sentiment-analysis\") # <- Modelo pode ser personalizado\n",
        "\n",
        "response = pipe(\"I hate you!\") # <- Mensagem para ser avaliada\n",
        "print(response)"
      ],
      "metadata": {
        "id": "6sw4JDb8d55T"
      },
      "execution_count": null,
      "outputs": []
    },
    {
      "cell_type": "markdown",
      "source": [
        "# Criando uma função\n",
        "Agora precisamos criar uma função para que a interface do Gradio possa usar a resposta do modelo pré-treinado."
      ],
      "metadata": {
        "id": "QeRvEZs_fPqH"
      }
    },
    {
      "cell_type": "code",
      "source": [
        "def sentiment_analysis(input_user):\n",
        "    '''\n",
        "    Essa função recolhe a mensagem do\n",
        "    user e retorna o sentimento (positivo/negativo).\n",
        "    '''\n",
        "\n",
        "    # Definir tarefa de classificação\n",
        "    pipe = pipeline(\"sentiment-analysis\") # <- Modelo pode ser personalizado\n",
        "\n",
        "    response = pipe(input_user) # <- Mensagem para ser avaliada\n",
        "\n",
        "    for r in response:\n",
        "        return (r['label'])\n",
        "\n"
      ],
      "metadata": {
        "id": "lw_qGKMHfeJw"
      },
      "execution_count": null,
      "outputs": []
    },
    {
      "cell_type": "code",
      "source": [
        "# Testando função\n",
        "input_user = \"Worst movie ever!\"\n",
        "sentiment_analysis(input_user)"
      ],
      "metadata": {
        "id": "wnkupnLbgK-c"
      },
      "execution_count": null,
      "outputs": []
    },
    {
      "cell_type": "markdown",
      "source": [
        "# Criar interface com Gradio\n",
        "Agora que temos a função precisamos instalar o Gradio e criar um campo de texto que será a mensagem do usuário.\n",
        "\n",
        "Informações adicionais sobre o Gradio: https://www.gradio.app/"
      ],
      "metadata": {
        "id": "TZAY29EGg7eE"
      }
    },
    {
      "cell_type": "code",
      "source": [
        "!pip install -q gradio;"
      ],
      "metadata": {
        "id": "dYTE4acvg9YQ"
      },
      "execution_count": null,
      "outputs": []
    },
    {
      "cell_type": "code",
      "source": [
        "# Importar Gradio\n",
        "import gradio as gr\n",
        "\n",
        "# Criação da interface\n",
        "interface = gr.Interface(fn=sentiment_analysis, # <- Função que retorna classificação do texto\n",
        "                          inputs=[gr.Textbox(label=\"Mensagem\", placeholder=\"Mensagem\")], # <- Campo de texto\n",
        "                          outputs=gr.Textbox(label=\"Classificação\"), # <- Resposta\n",
        "                          title=\"Sentiment-Analysis\"\n",
        "                          )\n",
        "# Run\n",
        "interface.launch(share=True)"
      ],
      "metadata": {
        "id": "PDzP0skCkTDN"
      },
      "execution_count": null,
      "outputs": []
    }
  ]
}